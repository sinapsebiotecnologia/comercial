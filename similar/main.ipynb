{
 "cells": [
  {
   "cell_type": "markdown",
   "metadata": {
    "id": "view-in-github",
    "colab_type": "text"
   },
   "source": [
    "<a href=\"https://colab.research.google.com/github/sinapsebiotecnologia/comercial/blob/main/similar/main.ipynb\" target=\"_parent\"><img src=\"https://colab.research.google.com/assets/colab-badge.svg\" alt=\"Open In Colab\"/></a>"
   ]
  },
  {
   "cell_type": "code",
   "execution_count": null,
   "metadata": {
    "collapsed": true,
    "pycharm": {
     "name": "#%%\n"
    },
    "id": "buAIPR0goR7P"
   },
   "outputs": [],
   "source": [
    "!pip install -q streamlit\n",
    "!pip install -q streamlit_ace\n",
    "!pip install pyngrok\n"
   ]
  },
  {
   "cell_type": "code",
   "execution_count": 9,
   "outputs": [
    {
     "name": "stdout",
     "output_type": "stream",
     "text": [
      "{\"ORIGINAL\":{\"0\":\"S0AB\",\"1\":\"S0CD\",\"2\":\"S0FG\"},\"SIMILAR\":{\"0\":\"Z0AB\",\"1\":\"Z0CD\",\"2\":\"Z0FG\"}}\n"
     ]
    }
   ],
   "source": [
    "import streamlit as st\n",
    "import pandas\n",
    "\n",
    "\n",
    "def main():\n",
    "\n",
    "    excel_data_df = pandas.read_excel('teste.xlsx')\n",
    "    json_str = excel_data_df.to_json()\n",
    "    print(json_str)\n",
    "\n",
    "if __name__ == '__main__':\n",
    "    main()"
   ],
   "metadata": {
    "collapsed": false,
    "pycharm": {
     "name": "#%%\n"
    }
   }
  },
  {
   "cell_type": "code",
   "execution_count": 4,
   "outputs": [
    {
     "output_type": "stream",
     "name": "stdout",
     "text": [
      "Overwriting app.py\n"
     ]
    }
   ],
   "source": [
    "%%writefile app.py\n",
    "import streamlit as st\n",
    "import json\n",
    "\n",
    "def main():\n",
    "  \n",
    "  st.markdown(\"#test\", unsafe_allow_html = True)\n",
    "\n",
    "  dict = json.load(open('teste.json'))\n",
    "\n",
    "  st.text(dict)\n",
    "    \n",
    "     \n",
    "\n",
    "\n",
    "if __name__ == '__main__':\n",
    "    main()"
   ],
   "metadata": {
    "pycharm": {
     "name": "#%%\n"
    },
    "id": "QqPhRYmnoR7S",
    "outputId": "7d092da4-ee3b-4cac-e45e-ea2c1958dfbb",
    "colab": {
     "base_uri": "https://localhost:8080/"
    }
   }
  },
  {
   "cell_type": "code",
   "source": [
    "!streamlit run app.py & npx localtunnel --port 8501"
   ],
   "metadata": {
    "id": "BOaZMzQ6oWwt",
    "outputId": "f971e4d2-3b80-4206-954b-46e4fc60de1f",
    "colab": {
     "base_uri": "https://localhost:8080/"
    }
   },
   "execution_count": null,
   "outputs": []
  },
  {
   "cell_type": "code",
   "execution_count": null,
   "outputs": [],
   "source": [
    "!pip install pandas\n"
   ],
   "metadata": {
    "collapsed": false,
    "pycharm": {
     "name": "#%%\n",
     "is_executing": true
    }
   }
  },
  {
   "cell_type": "code",
   "execution_count": 7,
   "outputs": [],
   "source": [
    "import pandas"
   ],
   "metadata": {
    "collapsed": false,
    "pycharm": {
     "name": "#%%\n"
    }
   }
  },
  {
   "cell_type": "code",
   "execution_count": 8,
   "outputs": [
    {
     "name": "stdout",
     "output_type": "stream",
     "text": [
      "Excel Sheet to JSON:\n",
      " {\"ORIGINAL\":{\"0\":\"S0AB\",\"1\":\"S0CD\",\"2\":\"S0FG\"},\"SIMILAR\":{\"0\":\"Z0AB\",\"1\":\"Z0CD\",\"2\":\"Z0FG\"}}\n"
     ]
    }
   ],
   "source": [
    "excel_data_df = pandas.read_excel('teste.xlsx')\n",
    "\n",
    "json_str = excel_data_df.to_json()\n",
    "\n",
    "print('Excel Sheet to JSON:\\n', json_str)"
   ],
   "metadata": {
    "collapsed": false,
    "pycharm": {
     "name": "#%%\n"
    }
   }
  }
 ],
 "metadata": {
  "kernelspec": {
   "display_name": "Python 3",
   "language": "python",
   "name": "python3"
  },
  "language_info": {
   "codemirror_mode": {
    "name": "ipython",
    "version": 2
   },
   "file_extension": ".py",
   "mimetype": "text/x-python",
   "name": "python",
   "nbconvert_exporter": "python",
   "pygments_lexer": "ipython2",
   "version": "2.7.6"
  },
  "colab": {
   "name": "main.ipynb",
   "provenance": [],
   "include_colab_link": true
  }
 },
 "nbformat": 4,
 "nbformat_minor": 0
}