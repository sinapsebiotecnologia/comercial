{
 "cells": [
  {
   "cell_type": "markdown",
   "metadata": {
    "id": "view-in-github",
    "colab_type": "text",
    "pycharm": {
     "name": "#%% md\n"
    }
   },
   "source": [
    "<a href=\"https://colab.research.google.com/github/KndHvH/Calculadora_TES/blob/main/streamlit/0.1/main.ipynb\" target=\"_parent\"><img src=\"https://colab.research.google.com/assets/colab-badge.svg\" alt=\"Open In Colab\"/></a>"
   ]
  },
  {
   "cell_type": "markdown",
   "source": [
    "# Instalando as bibliotecas\n"
   ],
   "metadata": {
    "collapsed": false,
    "id": "dcg_pCayGRwY",
    "pycharm": {
     "name": "#%% md\n"
    }
   }
  },
  {
   "cell_type": "code",
   "execution_count": 1,
   "outputs": [],
   "source": [
    "!pip install -q streamlit\n",
    "!pip install -q streamlit_ace"
   ],
   "metadata": {
    "collapsed": false,
    "pycharm": {
     "name": "#%%\n"
    }
   }
  },
  {
   "cell_type": "code",
   "execution_count": 2,
   "outputs": [
    {
     "ename": "OSError",
     "evalue": "Background processes not supported.",
     "output_type": "error",
     "traceback": [
      "\u001B[1;31m---------------------------------------------------------------------------\u001B[0m",
      "\u001B[1;31mOSError\u001B[0m                                   Traceback (most recent call last)",
      "Input \u001B[1;32mIn [2]\u001B[0m, in \u001B[0;36m<cell line: 1>\u001B[1;34m()\u001B[0m\n\u001B[1;32m----> 1\u001B[0m \u001B[43mget_ipython\u001B[49m\u001B[43m(\u001B[49m\u001B[43m)\u001B[49m\u001B[38;5;241;43m.\u001B[39;49m\u001B[43msystem\u001B[49m\u001B[43m(\u001B[49m\u001B[38;5;124;43m'\u001B[39;49m\u001B[38;5;124;43mstreamlit run app.py & > / dev / null &\u001B[39;49m\u001B[38;5;124;43m'\u001B[39;49m\u001B[43m)\u001B[49m\n",
      "File \u001B[1;32m~\\PycharmProjects\\120121\\venv\\lib\\site-packages\\ipykernel\\zmqshell.py:621\u001B[0m, in \u001B[0;36mZMQInteractiveShell.system_piped\u001B[1;34m(self, cmd)\u001B[0m\n\u001B[0;32m    606\u001B[0m \u001B[38;5;124;03m\"\"\"Call the given cmd in a subprocess, piping stdout/err\u001B[39;00m\n\u001B[0;32m    607\u001B[0m \n\u001B[0;32m    608\u001B[0m \u001B[38;5;124;03mParameters\u001B[39;00m\n\u001B[1;32m   (...)\u001B[0m\n\u001B[0;32m    613\u001B[0m \u001B[38;5;124;03m    other than simple text.\u001B[39;00m\n\u001B[0;32m    614\u001B[0m \u001B[38;5;124;03m\"\"\"\u001B[39;00m\n\u001B[0;32m    615\u001B[0m \u001B[38;5;28;01mif\u001B[39;00m cmd\u001B[38;5;241m.\u001B[39mrstrip()\u001B[38;5;241m.\u001B[39mendswith(\u001B[38;5;124m'\u001B[39m\u001B[38;5;124m&\u001B[39m\u001B[38;5;124m'\u001B[39m):\n\u001B[0;32m    616\u001B[0m     \u001B[38;5;66;03m# this is *far* from a rigorous test\u001B[39;00m\n\u001B[0;32m    617\u001B[0m     \u001B[38;5;66;03m# We do not support backgrounding processes because we either use\u001B[39;00m\n\u001B[0;32m    618\u001B[0m     \u001B[38;5;66;03m# pexpect or pipes to read from.  Users can always just call\u001B[39;00m\n\u001B[0;32m    619\u001B[0m     \u001B[38;5;66;03m# os.system() or use ip.system=ip.system_raw\u001B[39;00m\n\u001B[0;32m    620\u001B[0m     \u001B[38;5;66;03m# if they really want a background process.\u001B[39;00m\n\u001B[1;32m--> 621\u001B[0m     \u001B[38;5;28;01mraise\u001B[39;00m \u001B[38;5;167;01mOSError\u001B[39;00m(\u001B[38;5;124m\"\u001B[39m\u001B[38;5;124mBackground processes not supported.\u001B[39m\u001B[38;5;124m\"\u001B[39m)\n\u001B[0;32m    623\u001B[0m \u001B[38;5;66;03m# we explicitly do NOT return the subprocess status code, because\u001B[39;00m\n\u001B[0;32m    624\u001B[0m \u001B[38;5;66;03m# a non-None value would trigger :func:`sys.displayhook` calls.\u001B[39;00m\n\u001B[0;32m    625\u001B[0m \u001B[38;5;66;03m# Instead, we store the exit_code in user_ns.\u001B[39;00m\n\u001B[0;32m    626\u001B[0m \u001B[38;5;66;03m# Also, protect system call from UNC paths on Windows here too\u001B[39;00m\n\u001B[0;32m    627\u001B[0m \u001B[38;5;66;03m# as is done in InteractiveShell.system_raw\u001B[39;00m\n\u001B[0;32m    628\u001B[0m \u001B[38;5;28;01mif\u001B[39;00m sys\u001B[38;5;241m.\u001B[39mplatform \u001B[38;5;241m==\u001B[39m \u001B[38;5;124m'\u001B[39m\u001B[38;5;124mwin32\u001B[39m\u001B[38;5;124m'\u001B[39m:\n",
      "\u001B[1;31mOSError\u001B[0m: Background processes not supported."
     ]
    }
   ],
   "source": [
    "!streamlit run app.py & > / dev / null &"
   ],
   "metadata": {
    "collapsed": false,
    "pycharm": {
     "name": "#%%\n"
    }
   }
  },
  {
   "cell_type": "markdown",
   "source": [
    "# Codigo app.py"
   ],
   "metadata": {
    "collapsed": false,
    "pycharm": {
     "name": "#%% md\n"
    }
   }
  },
  {
   "cell_type": "code",
   "execution_count": null,
   "outputs": [],
   "source": [
    "%%writefile app.py\n",
    "\n",
    "import streamlit as st\n",
    "\n",
    "def main():\n",
    "    html_temp = \"\"\" <div style =\"background-color:blue;padding:13px\">\n",
    "                      <h1 style = \"color:white;text-align:center;\">Ferramentas Comerciais</h1>\n",
    "                    </dic>\n",
    "                \"\"\"\n",
    "\n",
    "    st.markdown(html_temp, unsafe_allow_html=True)\n",
    "\n",
    "    # st.markdown(\"---\")\n",
    "\n",
    "    # começo calc tes\n",
    "    tes = 'test'\n",
    "    st.header('Calculadora TES')\n",
    "\n",
    "    opcoes = ['Selecione a Operação', \"Venda Normal\", \"Amostra\", \"Doação\", \"Entrega futura de venda\",\n",
    "              \"Entrega futura remessa\", \"Demonstração\", \"Saida Troca\",\n",
    "              \"Venda por conta e ordem\", \"Simples remessa\",\"Faturamento entre entidades publicas (entre 2 estados diferentes)\"]\n",
    "\n",
    "    checkbox = st.selectbox('', opcoes)\n",
    "\n",
    "    operacao = numero_operacao(checkbox)\n",
    "\n",
    "    if operacao != 0:\n",
    "\n",
    "        if operacao == 9:\n",
    "            tes = 521\n",
    "        elif operacao == 6:\n",
    "            a = st.checkbox('Produto para Demonstração em evento')\n",
    "            if a:\n",
    "                tes = 955\n",
    "            else:\n",
    "                tes = 956\n",
    "        elif operacao == 2:\n",
    "            tes = 527\n",
    "        else:\n",
    "            ipi = st.checkbox(\"Produto Com IPI\", value=False)\n",
    "\n",
    "            if operacao == 4:\n",
    "                tes = op4(ipi)\n",
    "            elif operacao == 10:\n",
    "                tes = op10(ipi)\n",
    "            elif operacao == 8:\n",
    "                tes = op8(ipi)\n",
    "            else:\n",
    "                estado = st.checkbox(\"O cliente é de SP\", value=False, )\n",
    "\n",
    "                cnpj = st.checkbox(\"O cliente é pessoa juridica\", value=False)\n",
    "\n",
    "                contribuinte = False\n",
    "\n",
    "                if cnpj:\n",
    "                    contribuinte = st.checkbox(\"O cliente é contribuinte\", value=False)\n",
    "\n",
    "                lado = lado_tabela(estado, contribuinte)\n",
    "\n",
    "                if operacao == 5:\n",
    "                    tes = op5(lado)\n",
    "                else:\n",
    "                    fund = 0\n",
    "                    choice = 1\n",
    "                    if cnpj:\n",
    "                        choice = st.radio('Origem Produto', (1,6), index=0)\n",
    "                    if estado and cnpj:\n",
    "                        options = ('Nenhum dos dois', 'Fapesp', 'FFM')\n",
    "                        radio = st.radio('Cliente é Fapesp ou FFM?', options, index=0)\n",
    "\n",
    "                        fund = fs(radio)\n",
    "\n",
    "                    if operacao == 1:\n",
    "                        tes = op1(fund,ipi,lado,choice)\n",
    "                    elif operacao == 3:\n",
    "                        tes = op3(fund,ipi,lado)\n",
    "                    else:\n",
    "                        tes = op7(fund,choice,ipi)\n",
    "\n",
    "        if st.button(\"Verificar\"):\n",
    "            if operacao == 10:\n",
    "                st.info(f'TES: {tes}')\n",
    "                st.warning(\"**A remessa das mercadorias, deverá conter destaque do ICMS devido, \" \\\n",
    "                    \"contendo além das informações previstas na legislação.**\" \\\n",
    "                    \"\\n- Destinatário, aquele determinado pelo adquirente (Cliente);\" \\\n",
    "                    \"\\n- Natureza da operação, a expressão \\\"Remessa por conta e ordem de terceiros\\\";\" \\\n",
    "                    \"\\n- \\\"Chave de Acesso da NF-e Referenciada\\\", a chave de acesso da NF-e relativa ao faturamento (NFE 1);\" \\\n",
    "                    \"\\n- \\\"Informações Complementares\\\", a expressão \\\"NF-e emitida nos termos do artigo 129-A do RICMS/2000-SP\\\" e \" \\\n",
    "                    \"\\\" Ajuste Sinief 13/2013\\\".\")\n",
    "            else:\n",
    "                b = f'TES: {tes}'\n",
    "                st.info(b)\n",
    "            # final calc tes\n",
    "    # st.markdown(\"---\")\n",
    "\n",
    "# inicio funcoes calc tes\n",
    "\n",
    "def op10(ipi):\n",
    "    return (953 if ipi else 954)\n",
    "def op4(ipi):\n",
    "    return (505 if ipi else 537)\n",
    "def op8(ipi):\n",
    "    return (522 if ipi else 540)\n",
    "def op5(lado):\n",
    "    return ( 504 if lado == 'a' else 949 )\n",
    "def op1(fund,ipi,lado,choice):\n",
    "    if lado == 'a':\n",
    "        if fund == 1 and choice == 6:\n",
    "            return (554 if ipi else 533)\n",
    "        elif fund == 2:\n",
    "            return (565 if ipi else 560)\n",
    "        elif ipi:\n",
    "            return (501 if ipi else 535)\n",
    "    else:\n",
    "        return (948 if ipi else 947)\n",
    "def op3(fund,ipi,lado):\n",
    "    if lado == 'a':\n",
    "        if fund == 2:\n",
    "            return 928\n",
    "        else:\n",
    "            return (924 if ipi else 925)\n",
    "    else:\n",
    "        return (951 if ipi else 950)\n",
    "def op7(fund,choice,ipi):\n",
    "    if fund == 1 and choice == 1:\n",
    "        return 544\n",
    "\n",
    "    if ipi:\n",
    "        if fund == 2 or (fund == 1 and choice == 6):\n",
    "            return 550\n",
    "        return 900\n",
    "\n",
    "    else:\n",
    "        if fund == 2:\n",
    "            return 555\n",
    "        else:\n",
    "            return 544\n",
    "def fs(radio):\n",
    "    if radio == 'Fapesp':\n",
    "        return 1\n",
    "    elif radio == 'FFM':\n",
    "        return 2\n",
    "    return 0\n",
    "def lado_tabela(sp, contr):\n",
    "    return ('a' if sp or contr else 'b')\n",
    "def numero_operacao(txt):\n",
    "    if txt == 'Selecione a Operação':\n",
    "        x = 0\n",
    "    elif txt == 'Venda Normal':\n",
    "        x = 1\n",
    "    elif txt == 'Amostra':\n",
    "        x = 2\n",
    "    elif txt == 'Doação':\n",
    "        x = 3\n",
    "    elif txt == 'Entrega futura de venda':\n",
    "        x = 4\n",
    "    elif txt == 'Entrega futura remessa':\n",
    "        x = 5\n",
    "    elif txt == 'Demonstração':\n",
    "        x = 6\n",
    "    elif txt == 'Saida Troca':\n",
    "        x = 7\n",
    "    elif txt == 'Venda por conta e ordem':\n",
    "        x = 8\n",
    "    elif txt == 'Simples remessa':\n",
    "        x = 9\n",
    "    elif txt == \"Faturamento entre entidades publicas (entre 2 estados diferentes)\":\n",
    "        x = 10\n",
    "    return x\n",
    "\n",
    "# final funcoes calc tes\n",
    "\n",
    "\n",
    "if __name__ == '__main__':\n",
    "    main()"
   ],
   "metadata": {
    "collapsed": false,
    "pycharm": {
     "name": "#%%\n"
    }
   }
  },
  {
   "cell_type": "code",
   "source": [
    "!streamlit run app.py & npx localtunnel --port 8501"
   ],
   "metadata": {
    "id": "jMLGHpSi8eVD",
    "pycharm": {
     "name": "#%%\n"
    },
    "colab": {
     "base_uri": "https://localhost:8080/"
    },
    "outputId": "c6757f22-9d3d-42df-f5d7-d469152e48ff"
   },
   "execution_count": null,
   "outputs": [
    {
     "output_type": "stream",
     "name": "stdout",
     "text": [
      "2022-05-06 14:37:50.216 INFO    numexpr.utils: NumExpr defaulting to 2 threads.\n",
      "\u001B[K\u001B[?25hnpx: installed 22 in 3.102s\n",
      "your url is: https://great-mails-add-34-125-128-190.loca.lt\n",
      "\u001B[0m\n",
      "\u001B[34m\u001B[1m  You can now view your Streamlit app in your browser.\u001B[0m\n",
      "\u001B[0m\n",
      "\u001B[34m  Network URL: \u001B[0m\u001B[1mhttp://172.28.0.2:8501\u001B[0m\n",
      "\u001B[34m  External URL: \u001B[0m\u001B[1mhttp://34.125.128.190:8501\u001B[0m\n",
      "\u001B[0m\n"
     ]
    }
   ]
  }
 ],
 "metadata": {
  "kernelspec": {
   "display_name": "Python 3",
   "language": "python",
   "name": "python3"
  },
  "language_info": {
   "codemirror_mode": {
    "name": "ipython",
    "version": 2
   },
   "file_extension": ".py",
   "mimetype": "text/x-python",
   "name": "python",
   "nbconvert_exporter": "python",
   "pygments_lexer": "ipython2",
   "version": "2.7.6"
  },
  "colab": {
   "name": "main.ipynb",
   "provenance": [],
   "include_colab_link": true
  }
 },
 "nbformat": 4,
 "nbformat_minor": 0
}